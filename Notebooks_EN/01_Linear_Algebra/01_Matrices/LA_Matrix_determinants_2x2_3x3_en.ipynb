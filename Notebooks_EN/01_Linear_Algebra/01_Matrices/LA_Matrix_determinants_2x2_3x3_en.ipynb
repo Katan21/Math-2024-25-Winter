{
  "cells": [
    {
      "cell_type": "markdown",
      "metadata": {
        "id": "92Un41YhjjN_"
      },
      "source": [
        "# Determinants of 2x2 and 3x3 matrices\n",
        "\n",
        "### Determinant of a 2x2 Matrix\n",
        "\n",
        "The general formula for the determinant of a 2x2 matrix, where the matrix looks as follows:\n",
        "\n",
        "$$\n",
        "\\mathbf{A} =\n",
        "\\begin{pmatrix}\n",
        "a_{11} & a_{12} \\\\\n",
        "a_{21} & a_{22}\n",
        "\\end{pmatrix}\n",
        "$$\n",
        "\n",
        "The determinant of a 2x2 matrix is calculated using the formula:\n",
        "\n",
        "$$\n",
        "\\text{det}(A) = a_{11} \\cdot a_{22} - a_{12} \\cdot a_{21}\n",
        "$$\n",
        "\n",
        "### Determinant of a 3x3 Matrix\n",
        "\n",
        "The general formula for the determinant of a 3x3 matrix, where the matrix looks as follows:\n",
        "\n",
        "$$\n",
        "\\mathbf{B} =\n",
        "\\begin{pmatrix}\n",
        "a_{11} & a_{12} & a_{13} \\\\\n",
        "a_{21} & a_{22} & a_{23} \\\\\n",
        "a_{31} & a_{32} & a_{33}\n",
        "\\end{pmatrix}\n",
        "$$\n",
        "\n",
        "The determinant of a 3x3 matrix can be calculated using Sarrus' rule or Laplace expansion. Here, we will use Sarrus' rule:\n",
        "\n",
        "$$\n",
        "\\text{det}(B) = a_{11} \\cdot a_{22} \\cdot a_{33} + a_{12} \\cdot a_{23} \\cdot a_{31} + a_{13} \\cdot a_{21} \\cdot a_{32}\n",
        "- a_{13} \\cdot a_{22} \\cdot a_{31} - a_{12} \\cdot a_{21} \\cdot a_{33} - a_{11} \\cdot a_{23} \\cdot a_{32}\n",
        "$$\n",
        "\n",
        "<img src=\"https://upload.wikimedia.org/wikipedia/commons/c/c0/Sarrus_rule1.svg\" alt=\"Image description\" width=\"300\" align=\"center\"/>\n",
        "\n",
        "Note: Sarrus' rule does not work for matrices larger than 3x3.\n",
        "\n",
        "### Calculating Determinants in Python using SymPy\n",
        "\n",
        "Now, using the SymPy library, we will calculate the determinants for 2x2 and 3x3 matrices."
      ]
    },
    {
      "cell_type": "code",
      "execution_count": null,
      "metadata": {
        "id": "2m1DwVShjjOB",
        "outputId": "074a99f5-ea91-4374-8a63-4b373cbf65b7"
      },
      "outputs": [
        {
          "data": {
            "text/latex": [
              "$\\displaystyle \\left[\\begin{matrix}2 & 3\\\\1 & 4\\end{matrix}\\right]$"
            ],
            "text/plain": [
              "Matrix([\n",
              "[2, 3],\n",
              "[1, 4]])"
            ]
          },
          "execution_count": 1,
          "metadata": {},
          "output_type": "execute_result"
        }
      ],
      "source": [
        "import sympy as sp\n",
        "\n",
        "# Define the matrix\n",
        "A = sp.Matrix([[2, 3], [1, 4]])\n",
        "A # display the matrix"
      ]
    },
    {
      "cell_type": "code",
      "execution_count": null,
      "metadata": {
        "notebookRunGroups": {
          "groupValue": "2"
        },
        "id": "ww0Y1JAzjjOD",
        "outputId": "5ab1efed-9765-4f5c-e3a0-25a75c0d7b58"
      },
      "outputs": [
        {
          "data": {
            "text/plain": [
              "True"
            ]
          },
          "execution_count": 2,
          "metadata": {},
          "output_type": "execute_result"
        }
      ],
      "source": [
        "# Verify the correctness of the calculations\n",
        "(2*4 - 3*1) == A.det()"
      ]
    },
    {
      "cell_type": "code",
      "execution_count": null,
      "metadata": {
        "id": "2GK8ZzucjjOD",
        "outputId": "f766a60b-e3fc-4cd9-bc04-3733dd4f7e8d"
      },
      "outputs": [
        {
          "data": {
            "text/latex": [
              "$\\displaystyle \\left[\\begin{matrix}2 & 3 & 1\\\\1 & 4 & 5\\\\3 & 2 & 1\\end{matrix}\\right]$"
            ],
            "text/plain": [
              "Matrix([\n",
              "[2, 3, 1],\n",
              "[1, 4, 5],\n",
              "[3, 2, 1]])"
            ]
          },
          "execution_count": 3,
          "metadata": {},
          "output_type": "execute_result"
        }
      ],
      "source": [
        "# 3x3 Matrix\n",
        "B = sp.Matrix([[2, 3, 1], [1, 4, 5], [3, 2, 1]])\n",
        "B"
      ]
    },
    {
      "cell_type": "code",
      "execution_count": null,
      "metadata": {
        "id": "JDST3AP6jjOD",
        "outputId": "3457267a-882a-46ee-fc49-fd9cb8e227a8"
      },
      "outputs": [
        {
          "data": {
            "text/plain": [
              "True"
            ]
          },
          "execution_count": 4,
          "metadata": {},
          "output_type": "execute_result"
        }
      ],
      "source": [
        "# Verify the correctness of the calculations\n",
        "(2*4*1 + 3*5*3 + 1*1*2 - 1*4*3 - 5*2*2 - 3*1*1) == B.det()"
      ]
    },
    {
      "cell_type": "markdown",
      "metadata": {
        "id": "zhEZR5ttjjOD"
      },
      "source": [
        "---\n",
        "\n",
        "## Exercises for Students\n",
        "\n",
        "Calculate the determinants for the 2x2 and 3x3 matrices given below.\n",
        "\n",
        "1. 2x2 Matrices:\n",
        "\n",
        "$$\n",
        "\\mathbf{A} =\n",
        "\\begin{pmatrix}\n",
        "2 & 3 \\\\\n",
        "1 & 4\n",
        "\\end{pmatrix}\n",
        ", \\qquad\n",
        "\\mathbf{B} =\n",
        "\\begin{pmatrix}\n",
        "5 & 6 \\\\\n",
        "7 & 8\n",
        "\\end{pmatrix}\n",
        ", \\qquad\n",
        "\\mathbf{C} =\n",
        "\\begin{pmatrix}\n",
        "-1 & 2 \\\\\n",
        "3 & 0\n",
        "\\end{pmatrix}\n",
        "$$\n",
        "\n",
        "2. 3x3 Matrices:\n",
        "\n",
        "\n",
        "$$\n",
        "\\mathbf{D} =\n",
        "\\begin{pmatrix}\n",
        "1 & 0 & 2 \\\\\n",
        "-1 & 3 & 1 \\\\\n",
        "2 & 4 & -2\n",
        "\\end{pmatrix}\n",
        ", \\qquad\n",
        "\\mathbf{E} =\n",
        "\\begin{pmatrix}\n",
        "3 & 1 & -1 \\\\\n",
        "0 & 2 & 4 \\\\\n",
        "5 & 3 & 2\n",
        "\\end{pmatrix}\n",
        ", \\qquad\n",
        "\\mathbf{F} =\n",
        "\\begin{pmatrix}\n",
        "2 & -3 & 1 \\\\\n",
        "1 & 4 & -2 \\\\\n",
        "1 & 5 & 3\n",
        "\\end{pmatrix}\n",
        "$$"
      ]
    },
    {
      "cell_type": "markdown",
      "source": [
        "\n",
        "**2x2 Matrices:**\n",
        "\n",
        "* $A = \\begin{pmatrix} 2 & 3 \\\\ 1 & 4 \\end{pmatrix}$\n",
        "* $B = \\begin{pmatrix} 5 & 6 \\\\ 7 & 8 \\end{pmatrix}$\n",
        "* $C = \\begin{pmatrix} -1 & 2 \\\\ 3 & 0 \\end{pmatrix}$\n",
        "\n",
        "**3x3 Matrices:**\n",
        "\n",
        "* $D = \\begin{pmatrix} 1 & 0 & 2 \\\\ -1 & 3 & 1 \\\\ 2 & 4 & -2 \\end{pmatrix}$\n",
        "* $E = \\begin{pmatrix} 3 & 1 & -1 \\\\ 0 & 2 & 4 \\\\ 5 & 3 & 2 \\end{pmatrix}$\n",
        "* $F = \\begin{pmatrix} 2 & -3 & 1 \\\\ 1 & 4 & -2 \\\\ 1 & 5 & 3 \\end{pmatrix}$\n",
        "\n",
        "We can calculate the determinants of these matrices using the following formula:\n",
        "\n",
        "$$det(A) = a_{11}a_{22} - a_{12}a_{21}$$\n",
        "\n",
        "for 2x2 matrices, and\n",
        "\n",
        "$$det(A) = a_{11}C_{11} - a_{12}C_{12} + a_{13}C_{13}$$\n",
        "\n",
        "for 3x3 matrices, where $C_{ij}$ is the cofactor of $a_{ij}$.\n",
        "\n",
        "\n",
        "\n",
        "**2x2 Matrices:**\n",
        "\n",
        "* $det(A) = 2 \\cdot 4 - 3 \\cdot 1 = 5$\n",
        "* $det(B) = 5 \\cdot 8 - 6 \\cdot 7 = -2$\n",
        "* $det(C) = -1 \\cdot 0 - 2 \\cdot 3 = -6$\n",
        "\n",
        "**3x3 Matrices:**\n",
        "\n",
        "* $det(D) = 1 \\cdot \\begin{vmatrix} 3 & 1 \\\\ 4 & -2 \\end{vmatrix} - 0 \\cdot \\begin{vmatrix} -1 & 1 \\\\ 2 & -2 \\end{vmatrix} + 2 \\cdot \\begin{vmatrix} -1 & 3 \\\\ 2 & 4 \\end{vmatrix} = 1 \\cdot (-10) - 0 \\cdot 0 + 2 \\cdot (-10) = -30$\n",
        "* $det(E) = 3 \\cdot \\begin{vmatrix} 2 & 4 \\\\ 3 & 2 \\end{vmatrix} - 1 \\cdot \\begin{vmatrix} 0 & 4 \\\\ 5 & 2 \\end{vmatrix} - 1 \\cdot \\begin{vmatrix} 0 & 2 \\\\ 5 & 3 \\end{vmatrix} = 3 \\cdot (-2) - 1 \\cdot (-20) - 1 \\cdot (-10) = 26$\n",
        "* $det(F) = 2 \\cdot \\begin{vmatrix} 4 & -2 \\\\ 5 & 3 \\end{vmatrix} - (-3) \\cdot \\begin{vmatrix} 1 & -2 \\\\ 1 & 3 \\end{vmatrix} + 1 \\cdot \\begin{vmatrix} 1 & 4 \\\\ 1 & 5 \\end{vmatrix} = 2 \\cdot 17 + 3 \\cdot 5 + 1 \\cdot 1 = 46$\n",
        "\n",
        "Therefore, the determinants of the given matrices are:\n",
        "\n",
        "* $det(A) = 5$\n",
        "* $det(B) = -2$\n",
        "* $det(C) = -6$\n",
        "* $det(D) = -30$\n",
        "* $det(E) = 26$\n",
        "* $det(F) = 46$\n",
        "\n"
      ],
      "metadata": {
        "id": "41tVMTBHkwFx"
      }
    },
    {
      "cell_type": "code",
      "source": [
        "import numpy as np\n",
        "\n",
        "# 2x2 matrices\n",
        "A = np.array([[2, 3], [1, 4]])\n",
        "B = np.array([[5, 6], [7, 8]])\n",
        "C = np.array([[-1, 2], [3, 0]])\n",
        "\n",
        "# 3x3 matrices\n",
        "D = np.array([[1, 0, 2], [-1, 3, 1], [2, 4, -2]])\n",
        "E = np.array([[3, 1, -1], [0, 2, 4], [5, 3, 2]])\n",
        "F = np.array([[2, -3, 1], [1, 4, -2], [1, 5, 3]])\n",
        "\n",
        "# Calculate determinants using numpy.linalg.det\n",
        "determinant_A = np.linalg.det(A)\n",
        "determinant_B = np.linalg.det(B)\n",
        "determinant_C = np.linalg.det(C)\n",
        "determinant_D = np.linalg.det(D)\n",
        "determinant_E = np.linalg.det(E)\n",
        "determinant_F = np.linalg.det(F)\n",
        "\n",
        "# Print the results\n",
        "print(\"Determinant of A:\", determinant_A)\n",
        "print(\"Determinant of B:\", determinant_B)\n",
        "print(\"Determinant of C:\", determinant_C)\n",
        "print(\"Determinant of D:\", determinant_D)\n",
        "print(\"Determinant of E:\", determinant_E)\n",
        "print(\"Determinant of F:\", determinant_F)"
      ],
      "metadata": {
        "id": "0SCDHbgvkAgN",
        "outputId": "b57619ba-d7ee-4809-d116-f3a426b357cc",
        "colab": {
          "base_uri": "https://localhost:8080/"
        }
      },
      "execution_count": 1,
      "outputs": [
        {
          "output_type": "stream",
          "name": "stdout",
          "text": [
            "Determinant of A: 5.000000000000001\n",
            "Determinant of B: -2.000000000000005\n",
            "Determinant of C: -6.0\n",
            "Determinant of D: -29.99999999999999\n",
            "Determinant of E: 5.999999999999995\n",
            "Determinant of F: 60.000000000000036\n"
          ]
        }
      ]
    }
  ],
  "metadata": {
    "kernelspec": {
      "display_name": "Python 3",
      "language": "python",
      "name": "python3"
    },
    "language_info": {
      "codemirror_mode": {
        "name": "ipython",
        "version": 3
      },
      "file_extension": ".py",
      "mimetype": "text/x-python",
      "name": "python",
      "nbconvert_exporter": "python",
      "pygments_lexer": "ipython3",
      "version": "3.11.9"
    },
    "colab": {
      "provenance": []
    }
  },
  "nbformat": 4,
  "nbformat_minor": 0
}